{
  "nbformat": 4,
  "nbformat_minor": 0,
  "metadata": {
    "accelerator": "GPU",
    "colab": {
      "name": "cnn_corn_efficientnet.ipynb",
      "provenance": [],
      "collapsed_sections": []
    },
    "kernelspec": {
      "display_name": "Python 3",
      "name": "python3"
    }
  },
  "cells": [
    {
      "cell_type": "code",
      "metadata": {
        "colab": {
          "base_uri": "https://localhost:8080/"
        },
        "id": "T3q24RcVQmrf",
        "outputId": "d10efa0d-37b3-4e42-e991-d4b7a8b017d7"
      },
      "source": [
        "!nvidia-smi"
      ],
      "execution_count": null,
      "outputs": [
        {
          "output_type": "stream",
          "text": [
            "Thu Mar  4 13:56:44 2021       \n",
            "+-----------------------------------------------------------------------------+\n",
            "| NVIDIA-SMI 460.39       Driver Version: 460.32.03    CUDA Version: 11.2     |\n",
            "|-------------------------------+----------------------+----------------------+\n",
            "| GPU  Name        Persistence-M| Bus-Id        Disp.A | Volatile Uncorr. ECC |\n",
            "| Fan  Temp  Perf  Pwr:Usage/Cap|         Memory-Usage | GPU-Util  Compute M. |\n",
            "|                               |                      |               MIG M. |\n",
            "|===============================+======================+======================|\n",
            "|   0  Tesla T4            Off  | 00000000:00:04.0 Off |                    0 |\n",
            "| N/A   68C    P8    12W /  70W |      0MiB / 15109MiB |      0%      Default |\n",
            "|                               |                      |                  N/A |\n",
            "+-------------------------------+----------------------+----------------------+\n",
            "                                                                               \n",
            "+-----------------------------------------------------------------------------+\n",
            "| Processes:                                                                  |\n",
            "|  GPU   GI   CI        PID   Type   Process name                  GPU Memory |\n",
            "|        ID   ID                                                   Usage      |\n",
            "|=============================================================================|\n",
            "|  No running processes found                                                 |\n",
            "+-----------------------------------------------------------------------------+\n"
          ],
          "name": "stdout"
        }
      ]
    },
    {
      "cell_type": "code",
      "metadata": {
        "colab": {
          "base_uri": "https://localhost:8080/"
        },
        "id": "_bMZCHowgCYb",
        "outputId": "6d9cb245-3b37-4988-e4d0-6a26fe99c9c4"
      },
      "source": [
        "from google.colab import drive\n",
        "\n",
        "drive.mount('/content/gdrive')"
      ],
      "execution_count": null,
      "outputs": [
        {
          "output_type": "stream",
          "text": [
            "Mounted at /content/gdrive\n"
          ],
          "name": "stdout"
        }
      ]
    },
    {
      "cell_type": "code",
      "metadata": {
        "id": "GNsQt7BaN9QP"
      },
      "source": [
        "from PIL import Image\n",
        "import matplotlib\n",
        "import matplotlib.pyplot as plt\n",
        "from matplotlib.pyplot import imshow\n",
        "\n",
        "import torch\n",
        "import torch.nn as nn\n",
        "import torch.nn.functional as F\n",
        "import torch.optim as optim\n",
        "from torch.optim import lr_scheduler\n",
        "import torchvision\n",
        "from torchvision import datasets\n",
        "from torchvision import transforms\n",
        "from torch.utils.data import DataLoader\n",
        "\n",
        "from sklearn.model_selection import train_test_split\n",
        "from torch.utils.data import Subset\n",
        "\n",
        "import numpy as np\n",
        "import random\n",
        "import time\n",
        "import copy"
      ],
      "execution_count": null,
      "outputs": []
    },
    {
      "cell_type": "code",
      "metadata": {
        "id": "778pEXINr2Fj"
      },
      "source": [
        "import torch\n",
        "\n",
        "torch.backends.cudnn.deterministic = False"
      ],
      "execution_count": null,
      "outputs": []
    },
    {
      "cell_type": "code",
      "metadata": {
        "id": "wb99F_lsr8ag"
      },
      "source": [
        "batch_size = 64\n",
        "\n",
        "main_dir = '/content/gdrive/My Drive/krushimitra_be/labeled_data'\n",
        "\n",
        "leaf_datasets = datasets.ImageFolder(\n",
        "    main_dir,\n",
        "    transforms.Compose([\n",
        "        transforms.Resize((224, 224)),\n",
        "        transforms.ToTensor(),\n",
        "        transforms.Normalize(mean=[0.485, 0.456, 0.406], std=[0.229, 0.224, 0.225]),\n",
        "    ])\n",
        ")"
      ],
      "execution_count": null,
      "outputs": []
    },
    {
      "cell_type": "code",
      "metadata": {
        "colab": {
          "base_uri": "https://localhost:8080/"
        },
        "id": "y0hzggw6ROVN",
        "outputId": "c14daf56-a765-453a-b121-bb965001c469"
      },
      "source": [
        "random_seed = 15\n",
        "random.seed(random_seed)\n",
        "torch.manual_seed(random_seed)\n",
        "\n",
        "dataset = {}\n",
        "\n",
        "\n",
        "train_idx, valtest_idx = train_test_split(list(range(len(leaf_datasets))), test_size=0.4, random_state=random_seed)\n",
        "dataset['train'] = Subset(leaf_datasets, train_idx)\n",
        "valtest          = Subset(leaf_datasets, valtest_idx)\n",
        "\n",
        "\n",
        "val_idx, test_idx = train_test_split(list(range(len(valtest))), test_size=0.5, random_state=random_seed)\n",
        "dataset['valid'] = Subset(valtest, val_idx)\n",
        "dataset['test']  = Subset(valtest, test_idx)\n",
        "\n",
        "\n",
        "print(leaf_datasets.classes)"
      ],
      "execution_count": null,
      "outputs": [
        {
          "output_type": "stream",
          "text": [
            "['Blight', 'Common_Rust', 'Gray_Leaf_Spot', 'Healthy']\n"
          ],
          "name": "stdout"
        }
      ]
    },
    {
      "cell_type": "code",
      "metadata": {
        "colab": {
          "base_uri": "https://localhost:8080/"
        },
        "id": "jegmy9ZPRwSS",
        "outputId": "93bbe4e2-0ac3-4393-d028-575e76e201aa"
      },
      "source": [
        "print(len(dataset['train']))\n",
        "print(len(dataset['valid']))"
      ],
      "execution_count": null,
      "outputs": [
        {
          "output_type": "stream",
          "text": [
            "2027\n",
            "676\n"
          ],
          "name": "stdout"
        }
      ]
    },
    {
      "cell_type": "code",
      "metadata": {
        "colab": {
          "base_uri": "https://localhost:8080/"
        },
        "id": "wCLTq79zQP4T",
        "outputId": "91ef9721-c509-4b57-d3f8-58284a758e82"
      },
      "source": [
        "dataloaders, batch_num = {}, {}\n",
        "dataloaders['train'] = DataLoader(dataset['train'],\n",
        "                                  batch_size=batch_size, shuffle=True,\n",
        "                                  num_workers=8)\n",
        "dataloaders['valid'] = DataLoader(dataset['valid'],\n",
        "                                  batch_size=batch_size, shuffle=True,\n",
        "                                  num_workers=8)\n",
        "dataloaders['test'] = DataLoader(dataset['test'],\n",
        "                                  batch_size=batch_size, shuffle=True,\n",
        "                                  num_workers=8)\n",
        "\n",
        "\n",
        "batch_num['train'], batch_num['valid'], batch_num['test'] = len(dataloaders['train']), len(dataloaders['valid']), len(dataloaders['test'])\n",
        "print('batch_size : %d,  test/valid : %d / %d / %d' % (batch_size, batch_num['train'], batch_num['valid'], batch_num['test']))"
      ],
      "execution_count": null,
      "outputs": [
        {
          "output_type": "stream",
          "text": [
            "batch_size : 64,  test/valid : 32 / 11 / 11\n"
          ],
          "name": "stdout"
        }
      ]
    },
    {
      "cell_type": "markdown",
      "metadata": {
        "id": "C0GL5W0hThFf"
      },
      "source": [
        ""
      ]
    },
    {
      "cell_type": "code",
      "metadata": {
        "colab": {
          "base_uri": "https://localhost:8080/"
        },
        "id": "abCO5lRmtY94",
        "outputId": "06fc20ab-4b4c-4d48-d34d-f6a633687d88"
      },
      "source": [
        "!pip install efficientnet_pytorch"
      ],
      "execution_count": null,
      "outputs": [
        {
          "output_type": "stream",
          "text": [
            "Collecting efficientnet_pytorch\n",
            "  Downloading https://files.pythonhosted.org/packages/4e/83/f9c5f44060f996279e474185ebcbd8dbd91179593bffb9abe3afa55d085b/efficientnet_pytorch-0.7.0.tar.gz\n",
            "Requirement already satisfied: torch in /usr/local/lib/python3.7/dist-packages (from efficientnet_pytorch) (1.7.1+cu101)\n",
            "Requirement already satisfied: numpy in /usr/local/lib/python3.7/dist-packages (from torch->efficientnet_pytorch) (1.19.5)\n",
            "Requirement already satisfied: typing-extensions in /usr/local/lib/python3.7/dist-packages (from torch->efficientnet_pytorch) (3.7.4.3)\n",
            "Building wheels for collected packages: efficientnet-pytorch\n",
            "  Building wheel for efficientnet-pytorch (setup.py) ... \u001b[?25l\u001b[?25hdone\n",
            "  Created wheel for efficientnet-pytorch: filename=efficientnet_pytorch-0.7.0-cp37-none-any.whl size=16031 sha256=ac42eb8362403411ca5f70db4c04137a3954bf65d2f659095715a367cd47fac6\n",
            "  Stored in directory: /root/.cache/pip/wheels/e9/c6/e1/7a808b26406239712cfce4b5ceeb67d9513ae32aa4b31445c6\n",
            "Successfully built efficientnet-pytorch\n",
            "Installing collected packages: efficientnet-pytorch\n",
            "Successfully installed efficientnet-pytorch-0.7.0\n"
          ],
          "name": "stdout"
        }
      ]
    },
    {
      "cell_type": "code",
      "metadata": {
        "id": "E4Mspm8gOW3a"
      },
      "source": [
        "torch.cuda.empty_cache()\n"
      ],
      "execution_count": null,
      "outputs": []
    },
    {
      "cell_type": "code",
      "metadata": {
        "id": "he6nAztSt033"
      },
      "source": [
        "from efficientnet_pytorch import EfficientNet\n",
        "\n",
        "model = EfficientNet.from_name('efficientnet-b0', num_classes=4)\n",
        "\n",
        "for param in model.parameters():\n",
        "    param.requires_grad = True\n",
        "\n",
        "dev = torch.device(\"cuda\")"
      ],
      "execution_count": null,
      "outputs": []
    },
    {
      "cell_type": "code",
      "metadata": {
        "id": "s5Jn0_pGX8hl"
      },
      "source": [
        "model = model.to(dev)\n",
        "\n",
        "optimizer = optim.SGD(model.parameters(), \n",
        "                         lr = 0.0005,\n",
        "                         momentum=0.9,\n",
        "                         weight_decay=1e-4)\n",
        "\n",
        "criterion = nn.CrossEntropyLoss()"
      ],
      "execution_count": null,
      "outputs": []
    },
    {
      "cell_type": "code",
      "metadata": {
        "colab": {
          "base_uri": "https://localhost:8080/"
        },
        "id": "wpJFop8oS4V7",
        "outputId": "eb2c4fa0-cf97-47a8-cc87-7660b931ffc3"
      },
      "source": [
        "num_epochs = 50\n",
        "trn_loss_list, val_loss_list, trn_acc_list, val_acc_list = [], [], [], []\n",
        "best_acc = 0.0\n",
        "\n",
        "since = time.time()\n",
        "\n",
        "\n",
        "for epoch in range(num_epochs):\n",
        "    trn_loss, trn_corrects, val_loss, val_corrects = 0.0, 0, 0.0, 0\n",
        "    \n",
        "    model.train()\n",
        "    for i, (data, target) in enumerate(dataloaders['train']):\n",
        "        data, target = data.to(dev), target.to(dev)\n",
        "\n",
        "        optimizer.zero_grad()\n",
        "        #output =                 \n",
        "\n",
        "        loss = criterion(model(data), target)\n",
        "        loss.backward()\n",
        "        \n",
        "        optimizer.step()  \n",
        "        \n",
        "        _, preds = torch.max(model(data), 1)\n",
        "        trn_corrects += torch.sum(preds == target.data)\n",
        "        trn_loss += loss.item()\n",
        "\n",
        "    model.eval()\n",
        "    with torch.no_grad():\n",
        "        for j, (val_data, val_target) in enumerate(dataloaders['valid']):\n",
        "            val_data, val_target = val_data.to(dev), val_target.to(dev)\n",
        "            \n",
        "            val_output = model(val_data)\n",
        "            v_loss = criterion(val_output, val_target)\n",
        "            \n",
        "            _, preds = torch.max(val_output, 1)\n",
        "            val_corrects += torch.sum(preds == val_target.data)\n",
        "            val_loss += v_loss.item()\n",
        "\n",
        "\n",
        "    trn_acc_list.append(trn_corrects * 0.0493)\n",
        "    val_acc_list.append(val_corrects * 0.1479)\n",
        "    trn_loss_list.append(trn_loss/batch_num['train'])\n",
        "    val_loss_list.append(val_loss/batch_num['valid'])\n",
        "\n",
        "    time_elapsed = time.time() - since\n",
        "    print(\"epoch: {}/{} | trn loss: {:.4f} | val loss: {:.4f} | {:.0f}m {:.0f}s elapsed\".format(\n",
        "                epoch+1, num_epochs, trn_loss / batch_num['train'], val_loss / batch_num['valid'], \n",
        "                time_elapsed // 60, time_elapsed % 60))\n",
        "\n",
        "    if val_corrects * 0.1479 > best_acc:\n",
        "      best_acc = val_corrects * 0.1479\n",
        "      best_model = copy.deepcopy(model.state_dict())\n",
        "\n",
        "time_elapsed = time.time() - since\n",
        "print('Training complete in {:.0f}m {:.0f}s'.format(time_elapsed // 60, time_elapsed % 60))\n",
        "\n",
        "#print(\"model saved\")"
      ],
      "execution_count": null,
      "outputs": [
        {
          "output_type": "stream",
          "text": [
            "epoch: 1/50 | trn loss: 1.3462 | val loss: 1.3794 | 1m 45s elapsed\n",
            "epoch: 2/50 | trn loss: 1.1764 | val loss: 1.3648 | 2m 11s elapsed\n",
            "epoch: 3/50 | trn loss: 0.9990 | val loss: 1.3556 | 2m 36s elapsed\n",
            "epoch: 4/50 | trn loss: 0.9206 | val loss: 1.3713 | 3m 3s elapsed\n",
            "epoch: 5/50 | trn loss: 0.8086 | val loss: 1.4267 | 3m 28s elapsed\n",
            "epoch: 6/50 | trn loss: 0.6982 | val loss: 1.5382 | 3m 54s elapsed\n",
            "epoch: 7/50 | trn loss: 0.5930 | val loss: 1.6534 | 4m 21s elapsed\n",
            "epoch: 8/50 | trn loss: 0.5193 | val loss: 1.4518 | 4m 46s elapsed\n",
            "epoch: 9/50 | trn loss: 0.4763 | val loss: 0.8523 | 5m 12s elapsed\n",
            "epoch: 10/50 | trn loss: 0.4372 | val loss: 0.5566 | 5m 37s elapsed\n",
            "epoch: 11/50 | trn loss: 0.4090 | val loss: 0.3693 | 6m 3s elapsed\n",
            "epoch: 12/50 | trn loss: 0.3865 | val loss: 0.3628 | 6m 28s elapsed\n",
            "epoch: 13/50 | trn loss: 0.3881 | val loss: 0.3263 | 6m 54s elapsed\n",
            "epoch: 14/50 | trn loss: 0.3657 | val loss: 0.3335 | 7m 19s elapsed\n",
            "epoch: 15/50 | trn loss: 0.3468 | val loss: 0.3163 | 7m 45s elapsed\n",
            "epoch: 16/50 | trn loss: 0.3364 | val loss: 0.3098 | 8m 10s elapsed\n",
            "epoch: 17/50 | trn loss: 0.3231 | val loss: 0.3185 | 8m 36s elapsed\n",
            "epoch: 18/50 | trn loss: 0.3185 | val loss: 0.3209 | 9m 3s elapsed\n",
            "epoch: 19/50 | trn loss: 0.2850 | val loss: 0.2927 | 9m 28s elapsed\n",
            "epoch: 20/50 | trn loss: 0.2822 | val loss: 0.2905 | 9m 53s elapsed\n",
            "epoch: 21/50 | trn loss: 0.2897 | val loss: 0.2946 | 10m 19s elapsed\n",
            "epoch: 22/50 | trn loss: 0.2644 | val loss: 0.2792 | 10m 45s elapsed\n",
            "epoch: 23/50 | trn loss: 0.2436 | val loss: 0.2743 | 11m 11s elapsed\n",
            "epoch: 24/50 | trn loss: 0.2436 | val loss: 0.2847 | 11m 37s elapsed\n",
            "epoch: 25/50 | trn loss: 0.2348 | val loss: 0.2779 | 12m 2s elapsed\n",
            "epoch: 26/50 | trn loss: 0.2025 | val loss: 0.2904 | 12m 29s elapsed\n",
            "epoch: 27/50 | trn loss: 0.2026 | val loss: 0.3095 | 12m 54s elapsed\n",
            "epoch: 28/50 | trn loss: 0.1895 | val loss: 0.2488 | 13m 19s elapsed\n",
            "epoch: 29/50 | trn loss: 0.1656 | val loss: 0.2761 | 13m 45s elapsed\n",
            "epoch: 30/50 | trn loss: 0.1619 | val loss: 0.2613 | 14m 10s elapsed\n",
            "epoch: 31/50 | trn loss: 0.1557 | val loss: 0.2575 | 14m 35s elapsed\n",
            "epoch: 32/50 | trn loss: 0.1324 | val loss: 0.2404 | 15m 2s elapsed\n",
            "epoch: 33/50 | trn loss: 0.1116 | val loss: 0.3480 | 15m 27s elapsed\n",
            "epoch: 34/50 | trn loss: 0.1112 | val loss: 0.2497 | 15m 52s elapsed\n",
            "epoch: 35/50 | trn loss: 0.1060 | val loss: 0.2569 | 16m 19s elapsed\n",
            "epoch: 36/50 | trn loss: 0.1078 | val loss: 0.2442 | 16m 44s elapsed\n",
            "epoch: 37/50 | trn loss: 0.1021 | val loss: 0.3076 | 17m 10s elapsed\n",
            "epoch: 38/50 | trn loss: 0.0824 | val loss: 0.2316 | 17m 36s elapsed\n",
            "epoch: 39/50 | trn loss: 0.1004 | val loss: 0.2255 | 18m 2s elapsed\n",
            "epoch: 40/50 | trn loss: 0.0748 | val loss: 0.2714 | 18m 28s elapsed\n",
            "epoch: 41/50 | trn loss: 0.0860 | val loss: 0.2302 | 18m 53s elapsed\n",
            "epoch: 42/50 | trn loss: 0.0777 | val loss: 0.2388 | 19m 19s elapsed\n",
            "epoch: 43/50 | trn loss: 0.0645 | val loss: 0.2474 | 19m 45s elapsed\n",
            "epoch: 44/50 | trn loss: 0.0751 | val loss: 0.3397 | 20m 10s elapsed\n",
            "epoch: 45/50 | trn loss: 0.0500 | val loss: 0.2453 | 20m 35s elapsed\n",
            "epoch: 46/50 | trn loss: 0.0484 | val loss: 0.2266 | 21m 0s elapsed\n",
            "epoch: 47/50 | trn loss: 0.0580 | val loss: 0.2420 | 21m 25s elapsed\n",
            "epoch: 48/50 | trn loss: 0.0609 | val loss: 0.2493 | 21m 51s elapsed\n",
            "epoch: 49/50 | trn loss: 0.0538 | val loss: 0.2198 | 22m 16s elapsed\n",
            "epoch: 50/50 | trn loss: 0.0531 | val loss: 0.2315 | 22m 43s elapsed\n",
            "Training complete in 22m 43s\n"
          ],
          "name": "stdout"
        }
      ]
    },
    {
      "cell_type": "code",
      "metadata": {
        "colab": {
          "base_uri": "https://localhost:8080/"
        },
        "id": "0yjbU6Erxgst",
        "outputId": "6e73b453-cb77-429f-8292-4a26b491443c"
      },
      "source": [
        "model.load_state_dict(best_model)"
      ],
      "execution_count": null,
      "outputs": [
        {
          "output_type": "execute_result",
          "data": {
            "text/plain": [
              "<All keys matched successfully>"
            ]
          },
          "metadata": {
            "tags": []
          },
          "execution_count": 15
        }
      ]
    },
    {
      "cell_type": "code",
      "metadata": {
        "colab": {
          "base_uri": "https://localhost:8080/",
          "height": 282
        },
        "id": "L_EXtgfHU2es",
        "outputId": "faf4a6e5-ccb2-45e8-eadf-76290bbae2d9"
      },
      "source": [
        "plt.plot(trn_loss_list, label='train_loss')\n",
        "plt.plot(val_loss_list, label='val_loss')\n",
        "plt.legend()"
      ],
      "execution_count": null,
      "outputs": [
        {
          "output_type": "execute_result",
          "data": {
            "text/plain": [
              "<matplotlib.legend.Legend at 0x7f0b101b7210>"
            ]
          },
          "metadata": {
            "tags": []
          },
          "execution_count": 16
        },
        {
          "output_type": "display_data",
          "data": {
            "image/png": "[encoded data removed]",
            "text/plain": [
              "<Figure size 432x288 with 1 Axes>"
            ]
          },
          "metadata": {
            "tags": [],
            "needs_background": "light"
          }
        }
      ]
    },
    {
      "cell_type": "code",
      "metadata": {
        "colab": {
          "base_uri": "https://localhost:8080/"
        },
        "id": "lUx0iyrVo3Si",
        "outputId": "dd20f56b-97b8-4813-bada-4f8ef2ad7abe"
      },
      "source": [
        "corrects = 0\n",
        "total = 0\n",
        "\n",
        "model.eval()\n",
        "with torch.no_grad():\n",
        "    for j, (data, target) in enumerate(dataloaders['test']):\n",
        "        data, target = data.to(dev), target.to(dev)\n",
        "\n",
        "        output = model(data)\n",
        "        \n",
        "        _, preds = torch.max(output, 1)\n",
        "        corrects += torch.sum(preds == target.data)\n",
        "        total += len(preds)\n",
        "\n",
        "print(\"{}/{} | test accuracy: {:.4f}\".format(corrects, total, corrects/total))"
      ],
      "execution_count": null,
      "outputs": [
        {
          "output_type": "stream",
          "text": [
            "622/676 | test accuracy: 0.9201\n"
          ],
          "name": "stdout"
        }
      ]
    },
    {
      "cell_type": "code",
      "metadata": {
        "colab": {
          "base_uri": "https://localhost:8080/"
        },
        "id": "PThh0Pfy0gLl",
        "outputId": "2a68d2db-288c-48f6-c841-b48037073b63"
      },
      "source": [
        "nb_classes = 4\n",
        "\n",
        "confusion_matrix = torch.zeros(nb_classes, nb_classes)\n",
        "with torch.no_grad():\n",
        "    for i, (inputs, classes) in enumerate(dataloaders['test']):\n",
        "        inputs = inputs.to(dev)\n",
        "        classes = classes.to(dev)\n",
        "        outputs = model(inputs)\n",
        "        _, preds = torch.max(outputs, 1)\n",
        "        for t, p in zip(classes.view(-1), preds.view(-1)):\n",
        "                confusion_matrix[t.long(), p.long()] += 1\n",
        "\n",
        "print(confusion_matrix)"
      ],
      "execution_count": null,
      "outputs": [
        {
          "output_type": "stream",
          "text": [
            "tensor([[151.,   0.,  19.,   0.],\n",
            "        [  3., 190.,  13.,   1.],\n",
            "        [ 14.,   3.,  60.,   1.],\n",
            "        [  0.,   0.,   0., 221.]])\n"
          ],
          "name": "stdout"
        }
      ]
    },
    {
      "cell_type": "code",
      "metadata": {
        "id": "2hcpVTRn23ro"
      },
      "source": [
        "#torch.save(model, '/content/gdrive/My Drive/krushimitra_be/tensor1.pt')"
      ],
      "execution_count": null,
      "outputs": []
    },
    {
      "cell_type": "code",
      "metadata": {
        "id": "C6jRpZGt3777"
      },
      "source": [
        "#model = torch.load('/content/gdrive/My Drive/krushimitra_be/tensor1.pt')"
      ],
      "execution_count": null,
      "outputs": []
    }
  ]
}