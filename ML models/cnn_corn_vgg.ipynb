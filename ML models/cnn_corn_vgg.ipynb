{
  "nbformat": 4,
  "nbformat_minor": 0,
  "metadata": {
    "colab": {
      "name": "cnn_corn_vgg.ipynb",
      "provenance": [],
      "collapsed_sections": []
    },
    "kernelspec": {
      "name": "python3",
      "display_name": "Python 3"
    },
    "accelerator": "GPU"
  },
  "cells": [
    {
      "cell_type": "code",
      "metadata": {
        "colab": {
          "base_uri": "https://localhost:8080/"
        },
        "id": "T3q24RcVQmrf",
        "outputId": "437277ff-cecb-441e-9928-080594fec105"
      },
      "source": [
        "from google.colab import drive\n",
        "\n",
        "drive.mount('/content/gdrive')"
      ],
      "execution_count": null,
      "outputs": [
        {
          "output_type": "stream",
          "text": [
            "Mounted at /content/gdrive\n"
          ],
          "name": "stdout"
        }
      ]
    },
    {
      "cell_type": "code",
      "metadata": {
        "colab": {
          "base_uri": "https://localhost:8080/"
        },
        "id": "y0hzggw6ROVN",
        "outputId": "8f90fb3b-cdea-476a-8d9d-b0a713db9151"
      },
      "source": [
        "from keras.preprocessing.image import ImageDataGenerator\n",
        "\n",
        "img_generator = ImageDataGenerator(rescale=1/255, validation_split=0.2)\n",
        "\n",
        "main_dir = '/content/gdrive/My Drive/krushimitra_be/disease_data/disease_data'\n",
        "\n",
        "train_dataset = img_generator.flow_from_directory(batch_size=32,\n",
        "                                                  directory=main_dir,\n",
        "                                                  shuffle=True,\n",
        "                                                  target_size=(256,256),\n",
        "                                                  subset=\"training\",\n",
        "                                                  class_mode='categorical')\n",
        "\n",
        "validation_dataset = img_generator.flow_from_directory(batch_size=32,\n",
        "                                                  directory=main_dir,\n",
        "                                                  shuffle=True,\n",
        "                                                  target_size=(256,256),\n",
        "                                                  subset=\"validation\",\n",
        "                                                  class_mode='categorical')\n"
      ],
      "execution_count": null,
      "outputs": [
        {
          "output_type": "stream",
          "text": [
            "Found 3352 images belonging to 4 classes.\n",
            "Found 836 images belonging to 4 classes.\n"
          ],
          "name": "stdout"
        }
      ]
    },
    {
      "cell_type": "code",
      "metadata": {
        "colab": {
          "base_uri": "https://localhost:8080/"
        },
        "id": "wpJFop8oS4V7",
        "outputId": "23e93924-ce4e-4f60-e279-da890a8c5b99"
      },
      "source": [
        "print(train_dataset.class_indices)"
      ],
      "execution_count": null,
      "outputs": [
        {
          "output_type": "stream",
          "text": [
            "{'Blight': 0, 'Common_Rust': 1, 'Gray_Leaf_Spot': 2, 'Healthy': 3}\n"
          ],
          "name": "stdout"
        }
      ]
    },
    {
      "cell_type": "code",
      "metadata": {
        "id": "FEdDL_gvTKC1"
      },
      "source": [
        "classes = ['Blight', 'Common_Rust', 'Gray_Leaf_Spot', 'Healthy']"
      ],
      "execution_count": null,
      "outputs": []
    },
    {
      "cell_type": "code",
      "metadata": {
        "colab": {
          "base_uri": "https://localhost:8080/"
        },
        "id": "bgactr8MS4Y8",
        "outputId": "bef1c939-be9d-4247-ade8-5c4eb60d7db7"
      },
      "source": [
        "from keras.applications.vgg16 import VGG16\n",
        "\n",
        "vgg_model = VGG16(weights='imagenet', include_top=False, input_shape=(256,256,3))\n",
        "\n",
        "#vgg_model.build(input_shape=(256,256,3))"
      ],
      "execution_count": null,
      "outputs": [
        {
          "output_type": "stream",
          "text": [
            "Downloading data from https://storage.googleapis.com/tensorflow/keras-applications/vgg16/vgg16_weights_tf_dim_ordering_tf_kernels_notop.h5\n",
            "58892288/58889256 [==============================] - 0s 0us/step\n"
          ],
          "name": "stdout"
        }
      ]
    },
    {
      "cell_type": "code",
      "metadata": {
        "colab": {
          "base_uri": "https://localhost:8080/"
        },
        "id": "Tg3k5FVNTsfV",
        "outputId": "726dfc8d-fd1a-4cf6-dcf4-2f3ae0d65520"
      },
      "source": [
        "print(vgg_model.summary())"
      ],
      "execution_count": null,
      "outputs": [
        {
          "output_type": "stream",
          "text": [
            "Model: \"vgg16\"\n",
            "_________________________________________________________________\n",
            "Layer (type)                 Output Shape              Param #   \n",
            "=================================================================\n",
            "input_1 (InputLayer)         [(None, 256, 256, 3)]     0         \n",
            "_________________________________________________________________\n",
            "block1_conv1 (Conv2D)        (None, 256, 256, 64)      1792      \n",
            "_________________________________________________________________\n",
            "block1_conv2 (Conv2D)        (None, 256, 256, 64)      36928     \n",
            "_________________________________________________________________\n",
            "block1_pool (MaxPooling2D)   (None, 128, 128, 64)      0         \n",
            "_________________________________________________________________\n",
            "block2_conv1 (Conv2D)        (None, 128, 128, 128)     73856     \n",
            "_________________________________________________________________\n",
            "block2_conv2 (Conv2D)        (None, 128, 128, 128)     147584    \n",
            "_________________________________________________________________\n",
            "block2_pool (MaxPooling2D)   (None, 64, 64, 128)       0         \n",
            "_________________________________________________________________\n",
            "block3_conv1 (Conv2D)        (None, 64, 64, 256)       295168    \n",
            "_________________________________________________________________\n",
            "block3_conv2 (Conv2D)        (None, 64, 64, 256)       590080    \n",
            "_________________________________________________________________\n",
            "block3_conv3 (Conv2D)        (None, 64, 64, 256)       590080    \n",
            "_________________________________________________________________\n",
            "block3_pool (MaxPooling2D)   (None, 32, 32, 256)       0         \n",
            "_________________________________________________________________\n",
            "block4_conv1 (Conv2D)        (None, 32, 32, 512)       1180160   \n",
            "_________________________________________________________________\n",
            "block4_conv2 (Conv2D)        (None, 32, 32, 512)       2359808   \n",
            "_________________________________________________________________\n",
            "block4_conv3 (Conv2D)        (None, 32, 32, 512)       2359808   \n",
            "_________________________________________________________________\n",
            "block4_pool (MaxPooling2D)   (None, 16, 16, 512)       0         \n",
            "_________________________________________________________________\n",
            "block5_conv1 (Conv2D)        (None, 16, 16, 512)       2359808   \n",
            "_________________________________________________________________\n",
            "block5_conv2 (Conv2D)        (None, 16, 16, 512)       2359808   \n",
            "_________________________________________________________________\n",
            "block5_conv3 (Conv2D)        (None, 16, 16, 512)       2359808   \n",
            "_________________________________________________________________\n",
            "block5_pool (MaxPooling2D)   (None, 8, 8, 512)         0         \n",
            "=================================================================\n",
            "Total params: 14,714,688\n",
            "Trainable params: 14,714,688\n",
            "Non-trainable params: 0\n",
            "_________________________________________________________________\n",
            "None\n"
          ],
          "name": "stdout"
        }
      ]
    },
    {
      "cell_type": "code",
      "metadata": {
        "colab": {
          "base_uri": "https://localhost:8080/"
        },
        "id": "oJCsByKaTsiG",
        "outputId": "8240d6cf-c9f7-4e7b-d430-33336eb9e9ef"
      },
      "source": [
        "from keras.layers import Input, Flatten, Dense, Activation, Dropout\n",
        "from keras.models import  Sequential\n",
        "\n",
        "model = Sequential()\n",
        "\n",
        "model.add(vgg_model)\n",
        "model.add(Flatten())\n",
        "model.add(Dense(4))\n",
        "model.add((Activation('softmax')))\n",
        "\n",
        "model.compile(optimizer='adam',\n",
        "              loss='categorical_crossentropy',\n",
        "              metrics=['accuracy'])\n",
        "\n",
        "history=model.fit(train_dataset, validation_data=validation_dataset, epochs=10)\n"
      ],
      "execution_count": null,
      "outputs": [
        {
          "output_type": "stream",
          "text": [
            "Epoch 1/10\n",
            "105/105 [==============================] - 1107s 10s/step - loss: 2.2801 - accuracy: 0.2737 - val_loss: 1.3472 - val_accuracy: 0.4199\n",
            "Epoch 2/10\n",
            "105/105 [==============================] - 53s 505ms/step - loss: 1.3461 - accuracy: 0.3092 - val_loss: 0.4414 - val_accuracy: 0.8134\n",
            "Epoch 3/10\n",
            "105/105 [==============================] - 54s 516ms/step - loss: 0.6078 - accuracy: 0.7672 - val_loss: 0.3644 - val_accuracy: 0.8278\n",
            "Epoch 4/10\n",
            "105/105 [==============================] - 55s 523ms/step - loss: 0.3850 - accuracy: 0.8329 - val_loss: 0.2832 - val_accuracy: 0.8684\n",
            "Epoch 5/10\n",
            "105/105 [==============================] - 55s 525ms/step - loss: 0.3805 - accuracy: 0.8405 - val_loss: 0.3211 - val_accuracy: 0.8696\n",
            "Epoch 6/10\n",
            "105/105 [==============================] - 56s 530ms/step - loss: 0.3612 - accuracy: 0.8497 - val_loss: 0.2669 - val_accuracy: 0.8828\n",
            "Epoch 7/10\n",
            "105/105 [==============================] - 56s 528ms/step - loss: 0.3779 - accuracy: 0.8654 - val_loss: 0.7739 - val_accuracy: 0.6878\n",
            "Epoch 8/10\n",
            "105/105 [==============================] - 56s 530ms/step - loss: 0.5359 - accuracy: 0.7878 - val_loss: 0.3211 - val_accuracy: 0.8553\n",
            "Epoch 9/10\n",
            "105/105 [==============================] - 56s 530ms/step - loss: 0.3441 - accuracy: 0.8429 - val_loss: 0.2653 - val_accuracy: 0.8840\n",
            "Epoch 10/10\n",
            "105/105 [==============================] - 56s 528ms/step - loss: 0.2613 - accuracy: 0.8899 - val_loss: 0.2521 - val_accuracy: 0.8959\n"
          ],
          "name": "stdout"
        }
      ]
    },
    {
      "cell_type": "code",
      "metadata": {
        "colab": {
          "base_uri": "https://localhost:8080/"
        },
        "id": "keJYxljPZBnJ",
        "outputId": "c6fb8142-889f-41f0-c980-bb0811a7ead1"
      },
      "source": [
        "model.evaluate(validation_dataset)"
      ],
      "execution_count": null,
      "outputs": [
        {
          "output_type": "stream",
          "text": [
            "27/27 [==============================] - 5s 183ms/step - loss: 0.2521 - accuracy: 0.8959\n"
          ],
          "name": "stdout"
        },
        {
          "output_type": "execute_result",
          "data": {
            "text/plain": [
              "[0.2520546615123749, 0.8959330320358276]"
            ]
          },
          "metadata": {
            "tags": []
          },
          "execution_count": 7
        }
      ]
    },
    {
      "cell_type": "code",
      "metadata": {
        "colab": {
          "base_uri": "https://localhost:8080/",
          "height": 822
        },
        "id": "c-3v0JpKNUXH",
        "outputId": "f868a473-8adf-411b-aa8b-eb3ff2af7e58"
      },
      "source": [
        "import matplotlib.pyplot as plt\n",
        "#Plot the Graph\n",
        "\n",
        "# Loss Curves\n",
        "plt.figure(figsize=[8,6])\n",
        "plt.plot(history.history['loss'],'r',linewidth=3.0)\n",
        "#plt.plot(history.history['val_loss'],'b',linewidth=3.0)\n",
        "plt.legend(['Training loss', 'Validation Loss'],fontsize=18)\n",
        "plt.xlabel('Epochs ',fontsize=16)\n",
        "plt.ylabel('Loss',fontsize=16)\n",
        "plt.title('Loss Curves',fontsize=16)\n",
        "\n",
        "# Accuracy Curves\n",
        "\n",
        "plt.figure(figsize=[8,6])\n",
        "plt.plot(history.history['accuracy'],'r',linewidth=3.0)\n",
        "#plt.plot(history.history['val_accuracy'],'b',linewidth=3.0)\n",
        "plt.legend(['Training Accuracy', 'Validation Accuracy'],fontsize=18)\n",
        "plt.xlabel('Epochs ',fontsize=16)\n",
        "plt.ylabel('Accuracy',fontsize=16)\n",
        "plt.title('Accuracy Curves',fontsize=16)"
      ],
      "execution_count": null,
      "outputs": [
        {
          "output_type": "execute_result",
          "data": {
            "text/plain": [
              "Text(0.5, 1.0, 'Accuracy Curves')"
            ]
          },
          "metadata": {
            "tags": []
          },
          "execution_count": 11
        },
        {
          "output_type": "display_data",
          "data": {
            "image/png": "[encoded data removed]",
            "text/plain": [
              "<Figure size 576x432 with 1 Axes>"
            ]
          },
          "metadata": {
            "tags": [],
            "needs_background": "light"
          }
        },
        {
          "output_type": "display_data",
          "data": {
            "image/png": "[encoded data removed]",
            "text/plain": [
              "<Figure size 576x432 with 1 Axes>"
            ]
          },
          "metadata": {
            "tags": [],
            "needs_background": "light"
          }
        }
      ]
    },
    {
      "cell_type": "code",
      "metadata": {
        "colab": {
          "base_uri": "https://localhost:8080/"
        },
        "id": "SEIlzy0K3cBQ",
        "outputId": "512f5983-954b-4b4b-fb26-bb59e2195f74"
      },
      "source": [
        "from sklearn.datasets import make_circles\n",
        "from sklearn.metrics import accuracy_score\n",
        "from sklearn.metrics import precision_score\n",
        "from sklearn.metrics import recall_score\n",
        "from sklearn.metrics import f1_score\n",
        "from sklearn.metrics import cohen_kappa_score\n",
        "from sklearn.metrics import roc_auc_score\n",
        "\n",
        "precision=precision_score(y_pred,validation_dataset.classes,average=None)\n",
        "print(precision)\n",
        "recall=recall_score(y_pred,validation_dataset.classes,average=None)\n",
        "print(recall)\n",
        "f1=f1_score(y_pred,validation_dataset.classes,average=None)\n",
        "print(recall)"
      ],
      "execution_count": null,
      "outputs": [
        {
          "output_type": "stream",
          "text": [
            "[0.25327511 0.34099617 0.16666667 0.2887931 ]\n",
            "[0.27102804 0.33712121 0.15322581 0.28632479]\n",
            "[0.27102804 0.33712121 0.15322581 0.28632479]\n"
          ],
          "name": "stdout"
        }
      ]
    }
  ]
}