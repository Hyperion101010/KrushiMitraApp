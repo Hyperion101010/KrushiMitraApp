{
  "nbformat": 4,
  "nbformat_minor": 0,
  "metadata": {
    "colab": {
      "name": "cnn_corn_scratch.ipynb",
      "provenance": [],
      "collapsed_sections": []
    },
    "kernelspec": {
      "name": "python3",
      "display_name": "Python 3"
    },
    "accelerator": "GPU"
  },
  "cells": [
    {
      "cell_type": "code",
      "metadata": {
        "colab": {
          "base_uri": "https://localhost:8080/"
        },
        "id": "T3q24RcVQmrf",
        "outputId": "1ce4810a-5b73-49f1-f590-c86d90c9b6d5"
      },
      "source": [
        "from google.colab import drive\n",
        "\n",
        "drive.mount('/content/gdrive')"
      ],
      "execution_count": null,
      "outputs": [
        {
          "output_type": "stream",
          "text": [
            "Mounted at /content/gdrive\n"
          ],
          "name": "stdout"
        }
      ]
    },
    {
      "cell_type": "code",
      "metadata": {
        "colab": {
          "base_uri": "https://localhost:8080/"
        },
        "id": "y0hzggw6ROVN",
        "outputId": "9523eab4-7b37-4b9f-9035-94294e7dce27"
      },
      "source": [
        "from keras.preprocessing.image import ImageDataGenerator\n",
        "\n",
        "img_generator = ImageDataGenerator(rescale=1/255, validation_split=0.2)\n",
        "\n",
        "main_dir = '/content/gdrive/My Drive/krushimitra_be/disease_data/disease_data'\n",
        "\n",
        "train_dataset = img_generator.flow_from_directory(batch_size=32,\n",
        "                                                  directory=main_dir,\n",
        "                                                  shuffle=True,\n",
        "                                                  target_size=(256,256),\n",
        "                                                  subset=\"training\",\n",
        "                                                  class_mode='categorical')\n",
        "\n",
        "validation_dataset = img_generator.flow_from_directory(batch_size=32,\n",
        "                                                  directory=main_dir,\n",
        "                                                  shuffle=True,\n",
        "                                                  target_size=(256,256),\n",
        "                                                  subset=\"validation\",\n",
        "                                                  class_mode='categorical')\n"
      ],
      "execution_count": null,
      "outputs": [
        {
          "output_type": "stream",
          "text": [
            "Found 3352 images belonging to 4 classes.\n",
            "Found 836 images belonging to 4 classes.\n"
          ],
          "name": "stdout"
        }
      ]
    },
    {
      "cell_type": "code",
      "metadata": {
        "colab": {
          "base_uri": "https://localhost:8080/"
        },
        "id": "wpJFop8oS4V7",
        "outputId": "cc6b0ec1-8974-49c5-af4b-6d048ddbd017"
      },
      "source": [
        "print(train_dataset.class_indices)"
      ],
      "execution_count": null,
      "outputs": [
        {
          "output_type": "stream",
          "text": [
            "{'Blight': 0, 'Common_Rust': 1, 'Gray_Leaf_Spot': 2, 'Healthy': 3}\n"
          ],
          "name": "stdout"
        }
      ]
    },
    {
      "cell_type": "code",
      "metadata": {
        "id": "FEdDL_gvTKC1"
      },
      "source": [
        "classes = ['Blight', 'Common_Rust', 'Gray_Leaf_Spot', 'Healthy']"
      ],
      "execution_count": null,
      "outputs": []
    },
    {
      "cell_type": "code",
      "metadata": {
        "colab": {
          "base_uri": "https://localhost:8080/"
        },
        "id": "oJCsByKaTsiG",
        "outputId": "b153229d-da25-4716-88b0-9c57bddbfc32"
      },
      "source": [
        "from keras.layers import Input, Flatten, Dense, Activation, Dropout, Conv2D, MaxPooling2D\n",
        "from keras.models import  Sequential\n",
        "\n",
        "\n",
        "model = Sequential()\n",
        "model.add(Conv2D(32, (3, 3), input_shape=(256,256 ,3 ),activation='relu'))\n",
        "model.add(MaxPooling2D(pool_size=(2, 2)))\n",
        "\n",
        "model.add(Conv2D(64, (5, 5)))\n",
        "model.add(Activation('relu'))\n",
        "model.add(Conv2D(64, (5, 5)))\n",
        "model.add(Activation('relu'))\n",
        "model.add(MaxPooling2D(pool_size=(2, 2)))\n",
        "\n",
        "model.add(Conv2D(64, (5, 5)))\n",
        "model.add(Activation('relu'))\n",
        "model.add(Conv2D(64, (5, 5)))\n",
        "model.add(Activation('relu'))\n",
        "model.add(MaxPooling2D(pool_size=(2, 2)))\n",
        "\n",
        "model.add(Flatten())  \n",
        "model.add(Dense(64))\n",
        "model.add(Activation('relu'))\n",
        "model.add(Dropout(0.2))\n",
        "model.add(Dense(4))\n",
        "model.add(Activation('sigmoid'))\n",
        "\n",
        "model.compile(optimizer='adam',\n",
        "              loss='categorical_crossentropy',\n",
        "              metrics=['accuracy'])\n",
        "\n",
        "model.fit(train_dataset, validation_data=validation_dataset, epochs=10)\n"
      ],
      "execution_count": null,
      "outputs": [
        {
          "output_type": "stream",
          "text": [
            "Epoch 1/10\n",
            "105/105 [==============================] - 907s 9s/step - loss: 1.2131 - accuracy: 0.4659 - val_loss: 0.5932 - val_accuracy: 0.7799\n",
            "Epoch 2/10\n",
            "105/105 [==============================] - 22s 210ms/step - loss: 0.6514 - accuracy: 0.7545 - val_loss: 0.4640 - val_accuracy: 0.8170\n",
            "Epoch 3/10\n",
            "105/105 [==============================] - 22s 208ms/step - loss: 0.4826 - accuracy: 0.8030 - val_loss: 0.3216 - val_accuracy: 0.8505\n",
            "Epoch 4/10\n",
            "105/105 [==============================] - 22s 208ms/step - loss: 0.4221 - accuracy: 0.8200 - val_loss: 0.3367 - val_accuracy: 0.8325\n",
            "Epoch 5/10\n",
            "105/105 [==============================] - 22s 208ms/step - loss: 0.3308 - accuracy: 0.8520 - val_loss: 0.3877 - val_accuracy: 0.8170\n",
            "Epoch 6/10\n",
            "105/105 [==============================] - 22s 208ms/step - loss: 0.3284 - accuracy: 0.8609 - val_loss: 0.3254 - val_accuracy: 0.8409\n",
            "Epoch 7/10\n",
            "105/105 [==============================] - 22s 208ms/step - loss: 0.2994 - accuracy: 0.8794 - val_loss: 0.2827 - val_accuracy: 0.8684\n",
            "Epoch 8/10\n",
            "105/105 [==============================] - 22s 208ms/step - loss: 0.2531 - accuracy: 0.8985 - val_loss: 0.2881 - val_accuracy: 0.8828\n",
            "Epoch 9/10\n",
            "105/105 [==============================] - 22s 208ms/step - loss: 0.2152 - accuracy: 0.9090 - val_loss: 0.3193 - val_accuracy: 0.8600\n",
            "Epoch 10/10\n",
            "105/105 [==============================] - 22s 209ms/step - loss: 0.2104 - accuracy: 0.9276 - val_loss: 0.2745 - val_accuracy: 0.8864\n"
          ],
          "name": "stdout"
        },
        {
          "output_type": "execute_result",
          "data": {
            "text/plain": [
              "<tensorflow.python.keras.callbacks.History at 0x7f79df80e150>"
            ]
          },
          "metadata": {
            "tags": []
          },
          "execution_count": 10
        }
      ]
    },
    {
      "cell_type": "code",
      "metadata": {
        "colab": {
          "base_uri": "https://localhost:8080/"
        },
        "id": "keJYxljPZBnJ",
        "outputId": "74daf98d-937e-4ca3-927e-e659ff486e61"
      },
      "source": [
        "model.evaluate(validation_dataset)"
      ],
      "execution_count": null,
      "outputs": [
        {
          "output_type": "stream",
          "text": [
            "27/27 [==============================] - 4s 152ms/step - loss: 0.2745 - accuracy: 0.8864\n"
          ],
          "name": "stdout"
        },
        {
          "output_type": "execute_result",
          "data": {
            "text/plain": [
              "[0.27452173829078674, 0.8863636255264282]"
            ]
          },
          "metadata": {
            "tags": []
          },
          "execution_count": 11
        }
      ]
    }
  ]
}